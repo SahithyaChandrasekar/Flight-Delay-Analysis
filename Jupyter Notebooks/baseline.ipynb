{
 "cells": [
  {
   "cell_type": "markdown",
   "id": "c6e423c2-155b-4050-b472-1484f143a49b",
   "metadata": {},
   "source": [
    "input: merged CSVs with only Origin based delay and weather data"
   ]
  },
  {
   "cell_type": "code",
   "execution_count": 43,
   "id": "f16855b6-7b81-4236-bd45-65fec88d1024",
   "metadata": {},
   "outputs": [],
   "source": [
    "import pandas as pd\n",
    "import numpy as np\n",
    "import seaborn as sns"
   ]
  },
  {
   "cell_type": "code",
   "execution_count": 44,
   "id": "0cbb9837-eb1c-47a3-ada8-73325fc988ad",
   "metadata": {},
   "outputs": [],
   "source": [
    "dtypes = {\n",
    "    'DayOfWeek':                       int,\n",
    "    'FlightDate':                      'string',\n",
    "    'IATA_CODE_Reporting_Airline':     'string',\n",
    "    'Tail_Number':                     'string',\n",
    "    'Flight_Number_Reporting_Airline': int,\n",
    "    'OriginAirportID':                 int,\n",
    "    'Origin':                          'string',\n",
    "    'OriginState':                     'string',\n",
    "    'DestAirportID':                   int,\n",
    "    'Dest':                            'string',\n",
    "    'DestState':                       'string',\n",
    "    'CRSDepTime':                      int,\n",
    "    'DepTime':                         np.float64,\n",
    "    'DepDelayMinutes':                 np.float64,\n",
    "    'CRSArrTime':                      int,\n",
    "    'ArrTime':                         np.float64,\n",
    "    'ArrDelayMinutes':                 np.float64,\n",
    "    'Cancelled':                       int,\n",
    "    'CancellationCode':                'string',\n",
    "    'Diverted':                        int,\n",
    "    'CarrierDelay':                    np.float64,\n",
    "    'WeatherDelay':                    np.float64,\n",
    "    'NASDelay':                        np.float64,\n",
    "    'SecurityDelay':                   np.float64,\n",
    "    'LateAircraftDelay':               np.float64\n",
    "}"
   ]
  },
  {
   "cell_type": "code",
   "execution_count": 74,
   "id": "bf34b3b6-61c5-4242-bb58-cccc08d682b5",
   "metadata": {},
   "outputs": [],
   "source": [
    "# read data\n",
    "df1 = pd.read_csv('data/weather-joined/w-2017.csv')\n",
    "df2 = pd.read_csv('data/weather-joined/w-2018.csv')\n",
    "df3 = pd.read_csv('data/weather-joined/w-2019.csv')\n",
    "frames = [df1,df2]\n",
    "df = pd.concat(frames)"
   ]
  },
  {
   "cell_type": "code",
   "execution_count": 70,
   "id": "f11232f1-4731-424b-a9a8-1a9632d16e1d",
   "metadata": {},
   "outputs": [
    {
     "data": {
      "text/plain": [
       "count    70551.000000\n",
       "mean        17.845734\n",
       "std          8.339332\n",
       "min          0.894800\n",
       "25%         11.856100\n",
       "50%         16.553800\n",
       "75%         22.593700\n",
       "max         64.425600\n",
       "Name: wind_gusts_10m, dtype: float64"
      ]
     },
     "execution_count": 70,
     "metadata": {},
     "output_type": "execute_result"
    }
   ],
   "source": [
    "df['wind_gusts_10m'].describe()"
   ]
  },
  {
   "cell_type": "code",
   "execution_count": 71,
   "id": "33d27fb5-299e-441e-9789-cb691797d15b",
   "metadata": {},
   "outputs": [
    {
     "data": {
      "text/plain": [
       "Unnamed: 0                         70646\n",
       "DayOfWeek                          70646\n",
       "FlightDate                         70646\n",
       "IATA_CODE_Reporting_Airline        70646\n",
       "Tail_Number                        70646\n",
       "Flight_Number_Reporting_Airline    70646\n",
       "OriginAirportID                    70646\n",
       "Origin                             70646\n",
       "OriginState                        70646\n",
       "DestAirportID                      70646\n",
       "Dest                               70646\n",
       "DestState                          70646\n",
       "CRSDepTime                         70646\n",
       "DepTime                            70646\n",
       "DepDelayMinutes                    70646\n",
       "CRSArrTime                         70646\n",
       "ArrTime                            70646\n",
       "ArrDelayMinutes                    70646\n",
       "Cancelled                          70646\n",
       "CancellationCode                       0\n",
       "Diverted                           70646\n",
       "CarrierDelay                       70646\n",
       "WeatherDelay                       70646\n",
       "NASDelay                           70646\n",
       "SecurityDelay                      70646\n",
       "LateAircraftDelay                  70646\n",
       "CRSDepHour                         70646\n",
       "CRSArrHour                         70646\n",
       "temperature_2m                     70551\n",
       "relative_humidity_2m               70551\n",
       "dew_point_2m                       70551\n",
       "apparent_temperature               70551\n",
       "precipitation                      70551\n",
       "rain                               70551\n",
       "snowfall                           70551\n",
       "snow_depth                         68626\n",
       "weather_code                       70551\n",
       "surface_pressure                   70551\n",
       "cloud_cover                        70551\n",
       "cloud_cover_low                    70551\n",
       "cloud_cover_mid                    70551\n",
       "cloud_cover_high                   70551\n",
       "wind_speed_10m                     70551\n",
       "wind_speed_100m                    70551\n",
       "wind_gusts_10m                     70551\n",
       "shortwave_radiation                70551\n",
       "direct_radiation                   70551\n",
       "diffuse_radiation                  70551\n",
       "direct_normal_irradiance           70551\n",
       "terrestrial_radiation              70551\n",
       "airport                            70551\n",
       "day                                70551\n",
       "hour                               70551\n",
       "dtype: int64"
      ]
     },
     "execution_count": 71,
     "metadata": {},
     "output_type": "execute_result"
    }
   ],
   "source": [
    "df.count()"
   ]
  },
  {
   "cell_type": "code",
   "execution_count": 76,
   "id": "0eddf205-3303-4280-8a5f-3f59b4088311",
   "metadata": {},
   "outputs": [],
   "source": [
    "df = df.drop(['CancellationCode'], axis = 1)"
   ]
  },
  {
   "cell_type": "code",
   "execution_count": 77,
   "id": "72a62ece-2f66-47ad-85e8-e569478f8560",
   "metadata": {},
   "outputs": [
    {
     "data": {
      "text/plain": [
       "Unnamed: 0                            0\n",
       "DayOfWeek                             0\n",
       "FlightDate                            0\n",
       "IATA_CODE_Reporting_Airline           0\n",
       "Tail_Number                           0\n",
       "Flight_Number_Reporting_Airline       0\n",
       "OriginAirportID                       0\n",
       "Origin                                0\n",
       "OriginState                           0\n",
       "DestAirportID                         0\n",
       "Dest                                  0\n",
       "DestState                             0\n",
       "CRSDepTime                            0\n",
       "DepTime                               0\n",
       "DepDelayMinutes                       0\n",
       "CRSArrTime                            0\n",
       "ArrTime                               0\n",
       "ArrDelayMinutes                       0\n",
       "Cancelled                             0\n",
       "Diverted                              0\n",
       "CarrierDelay                          0\n",
       "WeatherDelay                          0\n",
       "NASDelay                              0\n",
       "SecurityDelay                         0\n",
       "LateAircraftDelay                     0\n",
       "CRSDepHour                            0\n",
       "CRSArrHour                            0\n",
       "temperature_2m                       95\n",
       "relative_humidity_2m                 95\n",
       "dew_point_2m                         95\n",
       "apparent_temperature                 95\n",
       "precipitation                        95\n",
       "rain                                 95\n",
       "snowfall                             95\n",
       "snow_depth                         2020\n",
       "weather_code                         95\n",
       "surface_pressure                     95\n",
       "cloud_cover                          95\n",
       "cloud_cover_low                      95\n",
       "cloud_cover_mid                      95\n",
       "cloud_cover_high                     95\n",
       "wind_speed_10m                       95\n",
       "wind_speed_100m                      95\n",
       "wind_gusts_10m                       95\n",
       "shortwave_radiation                  95\n",
       "direct_radiation                     95\n",
       "diffuse_radiation                    95\n",
       "direct_normal_irradiance             95\n",
       "terrestrial_radiation                95\n",
       "airport                              95\n",
       "day                                  95\n",
       "hour                                 95\n",
       "dtype: int64"
      ]
     },
     "execution_count": 77,
     "metadata": {},
     "output_type": "execute_result"
    }
   ],
   "source": [
    "df.isna().sum()"
   ]
  },
  {
   "cell_type": "code",
   "execution_count": 78,
   "id": "915599f1-e7ac-42f9-8efb-5d78d922195d",
   "metadata": {},
   "outputs": [
    {
     "data": {
      "text/plain": [
       "count    68626.000000\n",
       "mean         0.059591\n",
       "std          0.266063\n",
       "min          0.000000\n",
       "25%          0.000000\n",
       "50%          0.000000\n",
       "75%          0.000000\n",
       "max          6.692914\n",
       "Name: snow_depth, dtype: float64"
      ]
     },
     "execution_count": 78,
     "metadata": {},
     "output_type": "execute_result"
    }
   ],
   "source": [
    "df['snow_depth'].describe()"
   ]
  },
  {
   "cell_type": "code",
   "execution_count": 79,
   "id": "fea3c499-9a6f-4837-80c9-32ae9d76ae22",
   "metadata": {},
   "outputs": [],
   "source": [
    "df_dropped = df.dropna()"
   ]
  },
  {
   "cell_type": "code",
   "execution_count": 80,
   "id": "94cb5231-006d-44db-ad7c-2ca335c8de5d",
   "metadata": {},
   "outputs": [
    {
     "data": {
      "text/plain": [
       "Unnamed: 0                         0\n",
       "DayOfWeek                          0\n",
       "FlightDate                         0\n",
       "IATA_CODE_Reporting_Airline        0\n",
       "Tail_Number                        0\n",
       "Flight_Number_Reporting_Airline    0\n",
       "OriginAirportID                    0\n",
       "Origin                             0\n",
       "OriginState                        0\n",
       "DestAirportID                      0\n",
       "Dest                               0\n",
       "DestState                          0\n",
       "CRSDepTime                         0\n",
       "DepTime                            0\n",
       "DepDelayMinutes                    0\n",
       "CRSArrTime                         0\n",
       "ArrTime                            0\n",
       "ArrDelayMinutes                    0\n",
       "Cancelled                          0\n",
       "Diverted                           0\n",
       "CarrierDelay                       0\n",
       "WeatherDelay                       0\n",
       "NASDelay                           0\n",
       "SecurityDelay                      0\n",
       "LateAircraftDelay                  0\n",
       "CRSDepHour                         0\n",
       "CRSArrHour                         0\n",
       "temperature_2m                     0\n",
       "relative_humidity_2m               0\n",
       "dew_point_2m                       0\n",
       "apparent_temperature               0\n",
       "precipitation                      0\n",
       "rain                               0\n",
       "snowfall                           0\n",
       "snow_depth                         0\n",
       "weather_code                       0\n",
       "surface_pressure                   0\n",
       "cloud_cover                        0\n",
       "cloud_cover_low                    0\n",
       "cloud_cover_mid                    0\n",
       "cloud_cover_high                   0\n",
       "wind_speed_10m                     0\n",
       "wind_speed_100m                    0\n",
       "wind_gusts_10m                     0\n",
       "shortwave_radiation                0\n",
       "direct_radiation                   0\n",
       "diffuse_radiation                  0\n",
       "direct_normal_irradiance           0\n",
       "terrestrial_radiation              0\n",
       "airport                            0\n",
       "day                                0\n",
       "hour                               0\n",
       "dtype: int64"
      ]
     },
     "execution_count": 80,
     "metadata": {},
     "output_type": "execute_result"
    }
   ],
   "source": [
    "df_dropped.isna().sum()"
   ]
  },
  {
   "cell_type": "code",
   "execution_count": 101,
   "id": "98a98da0-803a-4d36-8b46-1298228d717b",
   "metadata": {},
   "outputs": [],
   "source": [
    "df_dropped = df_dropped[(df_dropped['WeatherDelay'] > 0) & (df_dropped['NASDelay'] > 0)]"
   ]
  },
  {
   "cell_type": "markdown",
   "id": "5c33deb7-f858-4676-afd5-0198f9dc75d8",
   "metadata": {},
   "source": [
    "# df3 = df3.drop(['CancellationCode'], axis = 1)"
   ]
  },
  {
   "cell_type": "code",
   "execution_count": 103,
   "id": "d9294fe6-d09d-4f4d-a65d-17d11c117a0f",
   "metadata": {},
   "outputs": [],
   "source": [
    "df3 = df3.dropna()"
   ]
  },
  {
   "cell_type": "code",
   "execution_count": 104,
   "id": "67947e58-577a-4b7a-91c2-83aa9010a76f",
   "metadata": {},
   "outputs": [
    {
     "data": {
      "text/plain": [
       "Unnamed: 0                         42684\n",
       "DayOfWeek                          42684\n",
       "FlightDate                         42684\n",
       "IATA_CODE_Reporting_Airline        42684\n",
       "Tail_Number                        42684\n",
       "Flight_Number_Reporting_Airline    42684\n",
       "OriginAirportID                    42684\n",
       "Origin                             42684\n",
       "OriginState                        42684\n",
       "DestAirportID                      42684\n",
       "Dest                               42684\n",
       "DestState                          42684\n",
       "CRSDepTime                         42684\n",
       "DepTime                            42684\n",
       "DepDelayMinutes                    42684\n",
       "CRSArrTime                         42684\n",
       "ArrTime                            42684\n",
       "ArrDelayMinutes                    42684\n",
       "Cancelled                          42684\n",
       "Diverted                           42684\n",
       "CarrierDelay                       42684\n",
       "WeatherDelay                       42684\n",
       "NASDelay                           42684\n",
       "SecurityDelay                      42684\n",
       "LateAircraftDelay                  42684\n",
       "CRSDepHour                         42684\n",
       "CRSArrHour                         42684\n",
       "temperature_2m                     42684\n",
       "relative_humidity_2m               42684\n",
       "dew_point_2m                       42684\n",
       "apparent_temperature               42684\n",
       "precipitation                      42684\n",
       "rain                               42684\n",
       "snowfall                           42684\n",
       "snow_depth                         42684\n",
       "weather_code                       42684\n",
       "surface_pressure                   42684\n",
       "cloud_cover                        42684\n",
       "cloud_cover_low                    42684\n",
       "cloud_cover_mid                    42684\n",
       "cloud_cover_high                   42684\n",
       "wind_speed_10m                     42684\n",
       "wind_speed_100m                    42684\n",
       "wind_gusts_10m                     42684\n",
       "shortwave_radiation                42684\n",
       "direct_radiation                   42684\n",
       "diffuse_radiation                  42684\n",
       "direct_normal_irradiance           42684\n",
       "terrestrial_radiation              42684\n",
       "airport                            42684\n",
       "day                                42684\n",
       "hour                               42684\n",
       "target_variable                    42684\n",
       "dtype: int64"
      ]
     },
     "execution_count": 104,
     "metadata": {},
     "output_type": "execute_result"
    }
   ],
   "source": [
    "df3.count()"
   ]
  },
  {
   "cell_type": "code",
   "execution_count": 82,
   "id": "a20dc413-52e8-48c4-bd00-323fdea72e28",
   "metadata": {},
   "outputs": [
    {
     "name": "stdout",
     "output_type": "stream",
     "text": [
      "['Unnamed: 0', 'DayOfWeek', 'FlightDate', 'IATA_CODE_Reporting_Airline', 'Tail_Number', 'Flight_Number_Reporting_Airline', 'OriginAirportID', 'Origin', 'OriginState', 'DestAirportID', 'Dest', 'DestState', 'CRSDepTime', 'DepTime', 'DepDelayMinutes', 'CRSArrTime', 'ArrTime', 'ArrDelayMinutes', 'Cancelled', 'Diverted', 'CarrierDelay', 'WeatherDelay', 'NASDelay', 'SecurityDelay', 'LateAircraftDelay', 'CRSDepHour', 'CRSArrHour', 'temperature_2m', 'relative_humidity_2m', 'dew_point_2m', 'apparent_temperature', 'precipitation', 'rain', 'snowfall', 'snow_depth', 'weather_code', 'surface_pressure', 'cloud_cover', 'cloud_cover_low', 'cloud_cover_mid', 'cloud_cover_high', 'wind_speed_10m', 'wind_speed_100m', 'wind_gusts_10m', 'shortwave_radiation', 'direct_radiation', 'diffuse_radiation', 'direct_normal_irradiance', 'terrestrial_radiation', 'airport', 'day', 'hour']\n"
     ]
    }
   ],
   "source": [
    "feature_columns = df.columns.tolist()\n",
    "print(feature_columns)"
   ]
  },
  {
   "cell_type": "code",
   "execution_count": 83,
   "id": "e9021403-ae3d-4b56-aacf-6a71285917c3",
   "metadata": {},
   "outputs": [
    {
     "name": "stdout",
     "output_type": "stream",
     "text": [
      "['FlightDate', 'IATA_CODE_Reporting_Airline', 'Tail_Number', 'Origin', 'OriginState', 'Dest', 'DestState', 'airport', 'day']\n"
     ]
    }
   ],
   "source": [
    "non_numeric_columns = df.select_dtypes(exclude=['number']).columns.tolist()\n",
    "print(non_numeric_columns)"
   ]
  },
  {
   "cell_type": "code",
   "execution_count": 87,
   "id": "7796a457-f38f-4124-bba3-a737a824c66f",
   "metadata": {},
   "outputs": [],
   "source": [
    "\n",
    "#encoding string data to numeric\n",
    "label_encoder = LabelEncoder()\n",
    "feature_columns_1 = ['CRSDepTime', 'temperature_2m', 'relative_humidity_2m', 'dew_point_2m', 'apparent_temperature', 'precipitation', 'rain', 'snowfall', 'snow_depth', 'weather_code', 'surface_pressure', 'cloud_cover', 'cloud_cover_low', 'cloud_cover_mid', 'cloud_cover_high', 'wind_speed_10m', 'wind_speed_100m', 'wind_gusts_10m', 'shortwave_radiation', 'direct_radiation', 'diffuse_radiation', 'direct_normal_irradiance', 'terrestrial_radiation']\n"
   ]
  },
  {
   "cell_type": "code",
   "execution_count": 111,
   "id": "0ddf04e5-aae2-422b-8d23-b91e51e99cd7",
   "metadata": {},
   "outputs": [],
   "source": [
    "df3 = df3[(df3['WeatherDelay'] > 0) & (df3['NASDelay'] > 0)]"
   ]
  },
  {
   "cell_type": "code",
   "execution_count": 112,
   "id": "bfeae90f-67a3-4c4b-ae01-2872f9eaef9d",
   "metadata": {},
   "outputs": [],
   "source": [
    "df3.loc[:, 'target_variable'] = df3['WeatherDelay'] + df3['NASDelay']"
   ]
  },
  {
   "cell_type": "code",
   "execution_count": 113,
   "id": "09ca1d9a-e3eb-43ec-83b3-0871fc9daec4",
   "metadata": {},
   "outputs": [
    {
     "data": {
      "text/plain": [
       "Unnamed: 0                         68626\n",
       "DayOfWeek                          68626\n",
       "FlightDate                         68626\n",
       "IATA_CODE_Reporting_Airline        68626\n",
       "Tail_Number                        68626\n",
       "Flight_Number_Reporting_Airline    68626\n",
       "OriginAirportID                    68626\n",
       "Origin                             68626\n",
       "OriginState                        68626\n",
       "DestAirportID                      68626\n",
       "Dest                               68626\n",
       "DestState                          68626\n",
       "CRSDepTime                         68626\n",
       "DepTime                            68626\n",
       "DepDelayMinutes                    68626\n",
       "CRSArrTime                         68626\n",
       "ArrTime                            68626\n",
       "ArrDelayMinutes                    68626\n",
       "Cancelled                          68626\n",
       "Diverted                           68626\n",
       "CarrierDelay                       68626\n",
       "WeatherDelay                       68626\n",
       "NASDelay                           68626\n",
       "SecurityDelay                      68626\n",
       "LateAircraftDelay                  68626\n",
       "CRSDepHour                         68626\n",
       "CRSArrHour                         68626\n",
       "temperature_2m                     68626\n",
       "relative_humidity_2m               68626\n",
       "dew_point_2m                       68626\n",
       "apparent_temperature               68626\n",
       "precipitation                      68626\n",
       "rain                               68626\n",
       "snowfall                           68626\n",
       "snow_depth                         68626\n",
       "weather_code                       68626\n",
       "surface_pressure                   68626\n",
       "cloud_cover                        68626\n",
       "cloud_cover_low                    68626\n",
       "cloud_cover_mid                    68626\n",
       "cloud_cover_high                   68626\n",
       "wind_speed_10m                     68626\n",
       "wind_speed_100m                    68626\n",
       "wind_gusts_10m                     68626\n",
       "shortwave_radiation                68626\n",
       "direct_radiation                   68626\n",
       "diffuse_radiation                  68626\n",
       "direct_normal_irradiance           68626\n",
       "terrestrial_radiation              68626\n",
       "airport                            68626\n",
       "day                                68626\n",
       "hour                               68626\n",
       "target_variable                    68626\n",
       "dtype: int64"
      ]
     },
     "execution_count": 113,
     "metadata": {},
     "output_type": "execute_result"
    }
   ],
   "source": [
    "df_dropped.count()"
   ]
  },
  {
   "cell_type": "code",
   "execution_count": 114,
   "id": "ca0f05e1-67a6-4591-8af2-87e31ff5d76c",
   "metadata": {},
   "outputs": [],
   "source": [
    "df_dropped.loc[:, 'target_variable'] = df_dropped['WeatherDelay'] + df_dropped['NASDelay']"
   ]
  },
  {
   "cell_type": "code",
   "execution_count": 137,
   "id": "f4ac6ae7-a901-4928-89f9-8b5fd838aa23",
   "metadata": {},
   "outputs": [
    {
     "name": "stdout",
     "output_type": "stream",
     "text": [
      "Root Mean Squared Error on Training Set: 110.11591695528243\n",
      "Mean Absolute Error on Training Set: 59.47666594202245\n"
     ]
    }
   ],
   "source": [
    "from sklearn.linear_model import LinearRegression\n",
    "from sklearn.metrics import mean_squared_error, r2_score, mean_absolute_error\n",
    "from sklearn.preprocessing  import LabelEncoder\n",
    "from math import sqrt\n",
    "\n",
    "X_train = df_dropped[feature_columns_1]\n",
    "y_train = df_dropped['target_variable']\n",
    "model = LinearRegression()\n",
    "model.fit(X_train, y_train)\n",
    "X_test = df3[feature_columns_1]\n",
    "Y_test = df3['target_variable']\n",
    "y_pred = model.predict(X_test)\n",
    "mse = mean_squared_error(Y_test, y_pred)\n",
    "rmse = sqrt(mse)\n",
    "mae = mean_absolute_error(Y_test, y_pred)\n",
    "print(f'Root Mean Squared Error on Training Set: {rmse}')\n",
    "print(f'Mean Absolute Error on Training Set: {mae}')"
   ]
  },
  {
   "cell_type": "code",
   "execution_count": 129,
   "id": "80181d30-34a4-4a9e-89ce-36b1a00e4010",
   "metadata": {},
   "outputs": [
    {
     "name": "stdout",
     "output_type": "stream",
     "text": [
      "R2 Score on Test Set: -0.002149821949724018\n"
     ]
    }
   ],
   "source": [
    "r2 = r2_score(Y_test, y_pred)\n",
    "print(f'R2 Score on Test Set: {r2}')"
   ]
  },
  {
   "cell_type": "code",
   "execution_count": 131,
   "id": "3e66f68d-36d9-4138-9c20-ab1977838b58",
   "metadata": {},
   "outputs": [
    {
     "name": "stdout",
     "output_type": "stream",
     "text": [
      "       Actual  Predicted\n",
      "0       794.0  74.511154\n",
      "1        72.0  81.373309\n",
      "2       673.0  77.200609\n",
      "3        90.0  89.759914\n",
      "4       202.0  73.026855\n",
      "...       ...        ...\n",
      "44085    19.0  74.394165\n",
      "44086    27.0  80.648429\n",
      "44087    69.0  70.913791\n",
      "44088   127.0  74.571042\n",
      "44089    37.0  80.417124\n",
      "\n",
      "[42684 rows x 2 columns]\n"
     ]
    }
   ],
   "source": [
    "predictions_df = pd.DataFrame({'Actual': Y_test, 'Predicted': y_pred})\n",
    "print(predictions_df)"
   ]
  },
  {
   "cell_type": "code",
   "execution_count": 132,
   "id": "af6009d3-d202-4e75-9308-cd0c293d7830",
   "metadata": {},
   "outputs": [
    {
     "name": "stdout",
     "output_type": "stream",
     "text": [
      "77.34689657501727\n"
     ]
    }
   ],
   "source": [
    "print(y_pred.mean())"
   ]
  },
  {
   "cell_type": "code",
   "execution_count": 135,
   "id": "e0bc4fec-8a65-4eed-a04a-146da1954658",
   "metadata": {},
   "outputs": [
    {
     "name": "stdout",
     "output_type": "stream",
     "text": [
      "76.46327922361787\n"
     ]
    }
   ],
   "source": [
    "print(df_dropped['target_variable'].mean())"
   ]
  },
  {
   "cell_type": "code",
   "execution_count": 138,
   "id": "53acc2d0-fca2-4ce9-8d17-8631c3a00cfb",
   "metadata": {},
   "outputs": [
    {
     "name": "stdout",
     "output_type": "stream",
     "text": [
      "Root Mean Squared Error on Training Set: 120.42796120832135\n",
      "Mean Absolute Error on Training Set: 67.45991254268975\n"
     ]
    }
   ],
   "source": [
    "X_train = df_dropped[feature_columns_1]\n",
    "y_train = df_dropped['DepDelayMinutes']\n",
    "model = LinearRegression()\n",
    "model.fit(X_train, y_train)\n",
    "X_test = df3[feature_columns_1]\n",
    "Y_test = df3['DepDelayMinutes']\n",
    "y_pred = model.predict(X_test)\n",
    "mse = mean_squared_error(Y_test, y_pred)\n",
    "rmse = sqrt(mse)\n",
    "mae = mean_absolute_error(Y_test, y_pred)\n",
    "print(f'Root Mean Squared Error on Training Set: {rmse}')\n",
    "print(f'Mean Absolute Error on Training Set: {mae}')"
   ]
  },
  {
   "cell_type": "code",
   "execution_count": 146,
   "id": "34e972bd-5536-4de6-b397-0b89f5b85d05",
   "metadata": {},
   "outputs": [],
   "source": []
  },
  {
   "cell_type": "code",
   "execution_count": 148,
   "id": "becc83e7-e402-413b-8066-75930194ecc9",
   "metadata": {},
   "outputs": [],
   "source": []
  },
  {
   "cell_type": "code",
   "execution_count": 152,
   "id": "a8da4a5b-b3c2-4ac4-a1d2-eca7ba560b49",
   "metadata": {},
   "outputs": [
    {
     "ename": "InvalidParameterError",
     "evalue": "The 'y_pred' parameter of mean_squared_error must be an array-like. Got 76.46327922361787 instead.",
     "output_type": "error",
     "traceback": [
      "\u001b[0;31m---------------------------------------------------------------------------\u001b[0m",
      "\u001b[0;31mInvalidParameterError\u001b[0m                     Traceback (most recent call last)",
      "Cell \u001b[0;32mIn[152], line 7\u001b[0m\n\u001b[1;32m      4\u001b[0m df_dropped_mean_nd \u001b[38;5;241m=\u001b[39m df_dropped[\u001b[38;5;124m'\u001b[39m\u001b[38;5;124mNASDelay\u001b[39m\u001b[38;5;124m'\u001b[39m]\u001b[38;5;241m.\u001b[39mmean()\n\u001b[1;32m      5\u001b[0m y_pred_train \u001b[38;5;241m=\u001b[39m df_dropped_mean_wd \u001b[38;5;241m+\u001b[39m df_dropped_mean_nd\n\u001b[0;32m----> 7\u001b[0m mse_train \u001b[38;5;241m=\u001b[39m \u001b[43mmean_squared_error\u001b[49m\u001b[43m(\u001b[49m\u001b[43my_train\u001b[49m\u001b[43m,\u001b[49m\u001b[43m \u001b[49m\u001b[43my_pred_train\u001b[49m\u001b[43m)\u001b[49m\n\u001b[1;32m      8\u001b[0m rmse_train \u001b[38;5;241m=\u001b[39m sqrt(mse_train)\n\u001b[1;32m      9\u001b[0m mae_train \u001b[38;5;241m=\u001b[39m mean_absolute_error(y_train, y_pred_train)\n",
      "File \u001b[0;32m/home/shared/code/my-venv/lib/python3.9/site-packages/sklearn/utils/_param_validation.py:204\u001b[0m, in \u001b[0;36mvalidate_params.<locals>.decorator.<locals>.wrapper\u001b[0;34m(*args, **kwargs)\u001b[0m\n\u001b[1;32m    201\u001b[0m to_ignore \u001b[38;5;241m+\u001b[39m\u001b[38;5;241m=\u001b[39m [\u001b[38;5;124m\"\u001b[39m\u001b[38;5;124mself\u001b[39m\u001b[38;5;124m\"\u001b[39m, \u001b[38;5;124m\"\u001b[39m\u001b[38;5;124mcls\u001b[39m\u001b[38;5;124m\"\u001b[39m]\n\u001b[1;32m    202\u001b[0m params \u001b[38;5;241m=\u001b[39m {k: v \u001b[38;5;28;01mfor\u001b[39;00m k, v \u001b[38;5;129;01min\u001b[39;00m params\u001b[38;5;241m.\u001b[39marguments\u001b[38;5;241m.\u001b[39mitems() \u001b[38;5;28;01mif\u001b[39;00m k \u001b[38;5;129;01mnot\u001b[39;00m \u001b[38;5;129;01min\u001b[39;00m to_ignore}\n\u001b[0;32m--> 204\u001b[0m \u001b[43mvalidate_parameter_constraints\u001b[49m\u001b[43m(\u001b[49m\n\u001b[1;32m    205\u001b[0m \u001b[43m    \u001b[49m\u001b[43mparameter_constraints\u001b[49m\u001b[43m,\u001b[49m\u001b[43m \u001b[49m\u001b[43mparams\u001b[49m\u001b[43m,\u001b[49m\u001b[43m \u001b[49m\u001b[43mcaller_name\u001b[49m\u001b[38;5;241;43m=\u001b[39;49m\u001b[43mfunc\u001b[49m\u001b[38;5;241;43m.\u001b[39;49m\u001b[38;5;18;43m__qualname__\u001b[39;49m\n\u001b[1;32m    206\u001b[0m \u001b[43m\u001b[49m\u001b[43m)\u001b[49m\n\u001b[1;32m    208\u001b[0m \u001b[38;5;28;01mtry\u001b[39;00m:\n\u001b[1;32m    209\u001b[0m     \u001b[38;5;28;01mwith\u001b[39;00m config_context(\n\u001b[1;32m    210\u001b[0m         skip_parameter_validation\u001b[38;5;241m=\u001b[39m(\n\u001b[1;32m    211\u001b[0m             prefer_skip_nested_validation \u001b[38;5;129;01mor\u001b[39;00m global_skip_validation\n\u001b[1;32m    212\u001b[0m         )\n\u001b[1;32m    213\u001b[0m     ):\n",
      "File \u001b[0;32m/home/shared/code/my-venv/lib/python3.9/site-packages/sklearn/utils/_param_validation.py:96\u001b[0m, in \u001b[0;36mvalidate_parameter_constraints\u001b[0;34m(parameter_constraints, params, caller_name)\u001b[0m\n\u001b[1;32m     90\u001b[0m \u001b[38;5;28;01melse\u001b[39;00m:\n\u001b[1;32m     91\u001b[0m     constraints_str \u001b[38;5;241m=\u001b[39m (\n\u001b[1;32m     92\u001b[0m         \u001b[38;5;124mf\u001b[39m\u001b[38;5;124m\"\u001b[39m\u001b[38;5;132;01m{\u001b[39;00m\u001b[38;5;124m'\u001b[39m\u001b[38;5;124m, \u001b[39m\u001b[38;5;124m'\u001b[39m\u001b[38;5;241m.\u001b[39mjoin([\u001b[38;5;28mstr\u001b[39m(c)\u001b[38;5;250m \u001b[39m\u001b[38;5;28;01mfor\u001b[39;00m\u001b[38;5;250m \u001b[39mc\u001b[38;5;250m \u001b[39m\u001b[38;5;129;01min\u001b[39;00m\u001b[38;5;250m \u001b[39mconstraints[:\u001b[38;5;241m-\u001b[39m\u001b[38;5;241m1\u001b[39m]])\u001b[38;5;132;01m}\u001b[39;00m\u001b[38;5;124m or\u001b[39m\u001b[38;5;124m\"\u001b[39m\n\u001b[1;32m     93\u001b[0m         \u001b[38;5;124mf\u001b[39m\u001b[38;5;124m\"\u001b[39m\u001b[38;5;124m \u001b[39m\u001b[38;5;132;01m{\u001b[39;00mconstraints[\u001b[38;5;241m-\u001b[39m\u001b[38;5;241m1\u001b[39m]\u001b[38;5;132;01m}\u001b[39;00m\u001b[38;5;124m\"\u001b[39m\n\u001b[1;32m     94\u001b[0m     )\n\u001b[0;32m---> 96\u001b[0m \u001b[38;5;28;01mraise\u001b[39;00m InvalidParameterError(\n\u001b[1;32m     97\u001b[0m     \u001b[38;5;124mf\u001b[39m\u001b[38;5;124m\"\u001b[39m\u001b[38;5;124mThe \u001b[39m\u001b[38;5;132;01m{\u001b[39;00mparam_name\u001b[38;5;132;01m!r}\u001b[39;00m\u001b[38;5;124m parameter of \u001b[39m\u001b[38;5;132;01m{\u001b[39;00mcaller_name\u001b[38;5;132;01m}\u001b[39;00m\u001b[38;5;124m must be\u001b[39m\u001b[38;5;124m\"\u001b[39m\n\u001b[1;32m     98\u001b[0m     \u001b[38;5;124mf\u001b[39m\u001b[38;5;124m\"\u001b[39m\u001b[38;5;124m \u001b[39m\u001b[38;5;132;01m{\u001b[39;00mconstraints_str\u001b[38;5;132;01m}\u001b[39;00m\u001b[38;5;124m. Got \u001b[39m\u001b[38;5;132;01m{\u001b[39;00mparam_val\u001b[38;5;132;01m!r}\u001b[39;00m\u001b[38;5;124m instead.\u001b[39m\u001b[38;5;124m\"\u001b[39m\n\u001b[1;32m     99\u001b[0m )\n",
      "\u001b[0;31mInvalidParameterError\u001b[0m: The 'y_pred' parameter of mean_squared_error must be an array-like. Got 76.46327922361787 instead."
     ]
    }
   ],
   "source": [
    "\n",
    "X_train = df_dropped[feature_columns_1]\n",
    "y_train = df_dropped['target_variable']\n",
    "df_dropped_mean_wd = df_dropped['WeatherDelay'].mean()\n",
    "df_dropped_mean_nd = df_dropped['NASDelay'].mean()\n",
    "y_pred_train = df_dropped_mean_wd + df_dropped_mean_nd\n",
    "\n",
    "mse_train = mean_squared_error(y_train, y_pred_train)\n",
    "rmse_train = sqrt(mse_train)\n",
    "mae_train = mean_absolute_error(y_train, y_pred_train)\n",
    "\n",
    "print(f'Root Mean Squared Error on Training Set: {rmse_train}')\n",
    "print(f'Mean Absolute Error on Training Set: {mae_train}')\n",
    "\n",
    "X_test = df3[feature_columns_1]\n",
    "y_test = df3['target_variable']\n",
    "df3_mean_wd = df3['WeatherDelay'].mean()\n",
    "df3_mean_nd = df3['NASDelay'].mean()\n",
    "y_pred_test = df3_mean_wd + df3_mean_nd\n",
    "rmse_test = sqrt(mean_squared_error(y_test, y_pred_test))\n",
    "mae_test = mean_absolute_error(y_test, y_pred_test)\n",
    "\n",
    "print(f'Root Mean Squared Error on Test Set: {rmse_test}')\n",
    "print(f'Mean Absolute Error on Test Set: {mae_test}')\n"
   ]
  },
  {
   "cell_type": "code",
   "execution_count": null,
   "id": "8a1d8469-cec7-4878-b5fc-2974f626af54",
   "metadata": {},
   "outputs": [],
   "source": []
  }
 ],
 "metadata": {
  "kernelspec": {
   "display_name": "my-venv",
   "language": "python",
   "name": "my-venv"
  },
  "language_info": {
   "codemirror_mode": {
    "name": "ipython",
    "version": 3
   },
   "file_extension": ".py",
   "mimetype": "text/x-python",
   "name": "python",
   "nbconvert_exporter": "python",
   "pygments_lexer": "ipython3",
   "version": "3.9.2"
  }
 },
 "nbformat": 4,
 "nbformat_minor": 5
}
