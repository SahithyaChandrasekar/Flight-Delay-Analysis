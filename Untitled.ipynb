{
 "cells": [
  {
   "cell_type": "code",
   "execution_count": 2,
   "id": "8c0552bd-dd94-45e8-88dc-3aeb5d9c815e",
   "metadata": {},
   "outputs": [
    {
     "name": "stdout",
     "output_type": "stream",
     "text": [
      "['DejaVu Sans', 'Libertinus Keyboard', 'Linux Libertine Mono O', 'Linux Biolinum Keyboard O', 'cmss10', 'Libertinus Serif Display', 'Libertinus Serif', 'STIXSizeThreeSym', 'Libertinus Math', 'DejaVu Serif Display', 'STIXSizeTwoSym', 'STIXSizeOneSym', 'cmsy10', 'DejaVu Sans Display', 'STIXGeneral', 'STIXSizeFiveSym', 'Libertinus Serif Initials', 'cmmi10', 'Lato', 'Libertinus Mono', 'Libertinus Sans', 'Linux Libertine Initials O', 'Linux Biolinum O', 'cmtt10', 'DejaVu Serif', 'cmr10', 'cmex10', 'Linux Libertine Display O', 'STIXSizeFourSym', 'DejaVu Sans Mono', 'Linux Libertine O', 'STIXNonUnicode', 'cmb10']\n"
     ]
    },
    {
     "data": {
      "text/html": [
       "<div style='column-count: 2;'><p>DejaVu Sans: <span style='font-family:DejaVu Sans; font-size: 24px;'>DejaVu Sans</p>\n",
       "<p>DejaVu Sans Display: <span style='font-family:DejaVu Sans Display; font-size: 24px;'>DejaVu Sans Display</p>\n",
       "<p>DejaVu Sans Mono: <span style='font-family:DejaVu Sans Mono; font-size: 24px;'>DejaVu Sans Mono</p>\n",
       "<p>DejaVu Serif: <span style='font-family:DejaVu Serif; font-size: 24px;'>DejaVu Serif</p>\n",
       "<p>DejaVu Serif Display: <span style='font-family:DejaVu Serif Display; font-size: 24px;'>DejaVu Serif Display</p>\n",
       "<p>Lato: <span style='font-family:Lato; font-size: 24px;'>Lato</p>\n",
       "<p>Libertinus Keyboard: <span style='font-family:Libertinus Keyboard; font-size: 24px;'>Libertinus Keyboard</p>\n",
       "<p>Libertinus Math: <span style='font-family:Libertinus Math; font-size: 24px;'>Libertinus Math</p>\n",
       "<p>Libertinus Mono: <span style='font-family:Libertinus Mono; font-size: 24px;'>Libertinus Mono</p>\n",
       "<p>Libertinus Sans: <span style='font-family:Libertinus Sans; font-size: 24px;'>Libertinus Sans</p>\n",
       "<p>Libertinus Serif: <span style='font-family:Libertinus Serif; font-size: 24px;'>Libertinus Serif</p>\n",
       "<p>Libertinus Serif Display: <span style='font-family:Libertinus Serif Display; font-size: 24px;'>Libertinus Serif Display</p>\n",
       "<p>Libertinus Serif Initials: <span style='font-family:Libertinus Serif Initials; font-size: 24px;'>Libertinus Serif Initials</p>\n",
       "<p>Linux Biolinum Keyboard O: <span style='font-family:Linux Biolinum Keyboard O; font-size: 24px;'>Linux Biolinum Keyboard O</p>\n",
       "<p>Linux Biolinum O: <span style='font-family:Linux Biolinum O; font-size: 24px;'>Linux Biolinum O</p>\n",
       "<p>Linux Libertine Display O: <span style='font-family:Linux Libertine Display O; font-size: 24px;'>Linux Libertine Display O</p>\n",
       "<p>Linux Libertine Initials O: <span style='font-family:Linux Libertine Initials O; font-size: 24px;'>Linux Libertine Initials O</p>\n",
       "<p>Linux Libertine Mono O: <span style='font-family:Linux Libertine Mono O; font-size: 24px;'>Linux Libertine Mono O</p>\n",
       "<p>Linux Libertine O: <span style='font-family:Linux Libertine O; font-size: 24px;'>Linux Libertine O</p>\n",
       "<p>STIXGeneral: <span style='font-family:STIXGeneral; font-size: 24px;'>STIXGeneral</p>\n",
       "<p>STIXNonUnicode: <span style='font-family:STIXNonUnicode; font-size: 24px;'>STIXNonUnicode</p>\n",
       "<p>STIXSizeFiveSym: <span style='font-family:STIXSizeFiveSym; font-size: 24px;'>STIXSizeFiveSym</p>\n",
       "<p>STIXSizeFourSym: <span style='font-family:STIXSizeFourSym; font-size: 24px;'>STIXSizeFourSym</p>\n",
       "<p>STIXSizeOneSym: <span style='font-family:STIXSizeOneSym; font-size: 24px;'>STIXSizeOneSym</p>\n",
       "<p>STIXSizeThreeSym: <span style='font-family:STIXSizeThreeSym; font-size: 24px;'>STIXSizeThreeSym</p>\n",
       "<p>STIXSizeTwoSym: <span style='font-family:STIXSizeTwoSym; font-size: 24px;'>STIXSizeTwoSym</p>\n",
       "<p>cmb10: <span style='font-family:cmb10; font-size: 24px;'>cmb10</p>\n",
       "<p>cmex10: <span style='font-family:cmex10; font-size: 24px;'>cmex10</p>\n",
       "<p>cmmi10: <span style='font-family:cmmi10; font-size: 24px;'>cmmi10</p>\n",
       "<p>cmr10: <span style='font-family:cmr10; font-size: 24px;'>cmr10</p>\n",
       "<p>cmss10: <span style='font-family:cmss10; font-size: 24px;'>cmss10</p>\n",
       "<p>cmsy10: <span style='font-family:cmsy10; font-size: 24px;'>cmsy10</p>\n",
       "<p>cmtt10: <span style='font-family:cmtt10; font-size: 24px;'>cmtt10</p></div>"
      ],
      "text/plain": [
       "<IPython.core.display.HTML object>"
      ]
     },
     "execution_count": 2,
     "metadata": {},
     "output_type": "execute_result"
    }
   ],
   "source": [
    "import matplotlib.font_manager\n",
    "matplotlib.font_manager._load_fontmanager(try_read_cache=False)\n",
    "\n",
    "print(matplotlib.font_manager.get_font_names())\n",
    "\n",
    "from IPython.core.display import HTML\n",
    "\n",
    "def make_html(fontname):\n",
    "    return \"<p>{font}: <span style='font-family:{font}; font-size: 24px;'>{font}</p>\".format(font=fontname)\n",
    "\n",
    "code = \"\\n\".join([make_html(font) for font in sorted(set([f.name for f in matplotlib.font_manager.fontManager.ttflist]))])\n",
    "\n",
    "HTML(\"<div style='column-count: 2;'>{}</div>\".format(code))"
   ]
  },
  {
   "cell_type": "code",
   "execution_count": 3,
   "id": "dea1b689-7b26-489a-a761-7c60a573d71d",
   "metadata": {},
   "outputs": [
    {
     "data": {
      "text/plain": [
       "['/usr/share/fonts/truetype/lato/Lato-Medium.ttf',\n",
       " '/usr/share/fonts/truetype/lato/Lato-LightItalic.ttf',\n",
       " '/usr/local/share/fonts/libertine/LinLibertine_RZ.otf',\n",
       " '/usr/local/share/fonts/libertine/LinLibertine_RZI.otf',\n",
       " '/usr/local/share/fonts/libertine/LinLibertine_DR.otf',\n",
       " '/usr/local/share/fonts/libertinus/LibertinusMono-Regular.otf',\n",
       " '/usr/local/share/fonts/libertine/LinBiolinum_K.otf',\n",
       " '/usr/local/share/fonts/libertinus/LibertinusSans-Italic.otf',\n",
       " '/usr/local/share/fonts/libertine/LinBiolinum_RB.otf',\n",
       " '/usr/share/fonts/truetype/lato/Lato-Italic.ttf',\n",
       " '/usr/share/fonts/truetype/lato/Lato-ThinItalic.ttf',\n",
       " '/usr/local/share/fonts/libertinus/LibertinusSerif-Italic.otf',\n",
       " '/usr/local/share/fonts/libertinus/LibertinusSerifInitials-Regular.otf',\n",
       " '/usr/local/share/fonts/libertinus/LibertinusSerifDisplay-Regular.otf',\n",
       " '/usr/local/share/fonts/libertinus/LibertinusKeyboard-Regular.otf',\n",
       " '/usr/local/share/fonts/libertinus/LibertinusSerif-Regular.otf',\n",
       " '/usr/local/share/fonts/libertinus/LibertinusSerif-BoldItalic.otf',\n",
       " '/usr/share/fonts/truetype/lato/Lato-SemiboldItalic.ttf',\n",
       " '/usr/local/share/fonts/libertine/LinLibertine_R.otf',\n",
       " '/usr/local/share/fonts/libertine/LinLibertine_RBI.otf',\n",
       " '/usr/share/fonts/truetype/lato/Lato-Hairline.ttf',\n",
       " '/usr/share/fonts/truetype/lato/Lato-Thin.ttf',\n",
       " '/usr/share/fonts/truetype/lato/Lato-HeavyItalic.ttf',\n",
       " '/usr/share/fonts/truetype/lato/Lato-Heavy.ttf',\n",
       " '/usr/share/fonts/truetype/dejavu/DejaVuSans-Bold.ttf',\n",
       " '/usr/share/fonts/truetype/lato/Lato-MediumItalic.ttf',\n",
       " '/usr/share/fonts/truetype/dejavu/DejaVuSansMono.ttf',\n",
       " '/usr/share/fonts/truetype/dejavu/DejaVuSerif-Bold.ttf',\n",
       " '/usr/share/fonts/truetype/lato/Lato-Semibold.ttf',\n",
       " '/usr/local/share/fonts/libertinus/LibertinusSans-Bold.otf',\n",
       " '/usr/share/fonts/truetype/lato/Lato-HairlineItalic.ttf',\n",
       " '/usr/local/share/fonts/libertinus/LibertinusSans-Regular.otf',\n",
       " '/usr/local/share/fonts/libertinus/LibertinusSerif-Bold.otf',\n",
       " '/usr/share/fonts/truetype/lato/Lato-Bold.ttf',\n",
       " '/usr/share/fonts/truetype/lato/Lato-BoldItalic.ttf',\n",
       " '/usr/local/share/fonts/libertinus/LibertinusSerif-Semibold.otf',\n",
       " '/usr/share/fonts/truetype/lato/Lato-BlackItalic.ttf',\n",
       " '/usr/share/fonts/truetype/dejavu/DejaVuSerif.ttf',\n",
       " '/usr/share/fonts/truetype/dejavu/DejaVuSans.ttf',\n",
       " '/usr/local/share/fonts/libertine/LinBiolinum_R.otf',\n",
       " '/usr/local/share/fonts/libertine/LinLibertine_RI.otf',\n",
       " '/usr/local/share/fonts/libertinus/LibertinusMath-Regular.otf',\n",
       " '/usr/share/fonts/truetype/lato/Lato-Regular.ttf',\n",
       " '/usr/share/fonts/truetype/lato/Lato-Black.ttf',\n",
       " '/usr/local/share/fonts/libertine/LinLibertine_M.otf',\n",
       " '/usr/share/fonts/truetype/lato/Lato-Light.ttf',\n",
       " '/usr/local/share/fonts/libertine/LinBiolinum_RI.otf',\n",
       " '/usr/local/share/fonts/libertinus/LibertinusSerif-SemiboldItalic.otf',\n",
       " '/usr/share/fonts/truetype/dejavu/DejaVuSansMono-Bold.ttf',\n",
       " '/usr/local/share/fonts/libertine/LinLibertine_I.otf',\n",
       " '/usr/local/share/fonts/libertine/LinLibertine_RB.otf']"
      ]
     },
     "execution_count": 3,
     "metadata": {},
     "output_type": "execute_result"
    }
   ],
   "source": [
    "matplotlib.font_manager.findSystemFonts(fontext='otf')"
   ]
  },
  {
   "cell_type": "code",
   "execution_count": 4,
   "id": "3aac4ec5-db20-41ed-aa8a-5197ab3bce36",
   "metadata": {},
   "outputs": [
    {
     "data": {
      "text/plain": [
       "'Libertinus Mono'"
      ]
     },
     "execution_count": 4,
     "metadata": {},
     "output_type": "execute_result"
    }
   ],
   "source": [
    "matplotlib.font_manager.get_font(\"/usr/local/share/fonts/libertinus/LibertinusMono-Regular.otf\").family_name"
   ]
  },
  {
   "cell_type": "code",
   "execution_count": 5,
   "id": "0b90985e-4987-49fb-9d1e-c6a59140ba11",
   "metadata": {},
   "outputs": [],
   "source": [
    "import matplotlib.pyplot as plt\n",
    "\n",
    "plt.rcParams[\"font.family\"] = \"Libertinus Mono\"\n",
    "plt.rcParams[\"font.size\"] = 12"
   ]
  },
  {
   "cell_type": "code",
   "execution_count": 6,
   "id": "8007e477-a0ec-49b6-b4d8-9d9bb91f8d47",
   "metadata": {},
   "outputs": [
    {
     "data": {
      "image/png": "[encoded data removed]",
      "text/plain": [
       "<Figure size 640x480 with 1 Axes>"
      ]
     },
     "metadata": {},
     "output_type": "display_data"
    }
   ],
   "source": [
    "import numpy as np\n",
    "\n",
    "ypoints = np.array([3, 8, 1, 10])\n",
    "\n",
    "plt.plot(ypoints, linestyle = 'dotted')\n",
    "plt.show()"
   ]
  },
  {
   "cell_type": "code",
   "execution_count": null,
   "id": "72c99f8e-05c6-4a7e-99e9-332a1fad50b7",
   "metadata": {},
   "outputs": [],
   "source": []
  }
 ],
 "metadata": {
  "kernelspec": {
   "display_name": "my-venv",
   "language": "python",
   "name": "my-venv"
  },
  "language_info": {
   "codemirror_mode": {
    "name": "ipython",
    "version": 3
   },
   "file_extension": ".py",
   "mimetype": "text/x-python",
   "name": "python",
   "nbconvert_exporter": "python",
   "pygments_lexer": "ipython3",
   "version": "3.9.2"
  }
 },
 "nbformat": 4,
 "nbformat_minor": 5
}
